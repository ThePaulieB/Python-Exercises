{
  "nbformat": 4,
  "nbformat_minor": 0,
  "metadata": {
    "colab": {
      "provenance": [],
      "authorship_tag": "ABX9TyPQ+lJfH+tfbhsCvj+hQ+OB",
      "include_colab_link": true
    },
    "kernelspec": {
      "name": "python3",
      "display_name": "Python 3"
    },
    "language_info": {
      "name": "python"
    }
  },
  "cells": [
    {
      "cell_type": "markdown",
      "metadata": {
        "id": "view-in-github",
        "colab_type": "text"
      },
      "source": [
        "<a href=\"https://colab.research.google.com/github/ThePaulieB/Python-Exercises/blob/main/Python_Exercises_Colab.ipynb\" target=\"_parent\"><img src=\"https://colab.research.google.com/assets/colab-badge.svg\" alt=\"Open In Colab\"/></a>"
      ]
    },
    {
      "cell_type": "code",
      "execution_count": null,
      "metadata": {
        "id": "hChQ8w5LkxIT"
      },
      "outputs": [],
      "source": []
    },
    {
      "cell_type": "code",
      "execution_count": null,
      "metadata": {
        "id": "vq0nHvVJjBzF"
      },
      "outputs": [],
      "source": [
        "#Try at home:\n",
        "#Python function to find the factorial of a number\n",
        "#Python function to check if a number is palindrome or not\n",
        "#Write a Python function to check whether a number falls within a given range.\n",
        "#Write a Python function that accepts a string and counts the number of upper and lower case letters.\n",
        "#Write a Python function that takes a list and returns a new list with distinct elements from the first list.\n",
        "#Write a Python program to print the even numbers from a given list."
      ]
    },
    {
      "cell_type": "code",
      "source": [
        "#find factorial\n",
        "\n",
        "n = 10\n",
        "\n",
        "def find_factorial(var1):\n",
        "    fact = 1\n",
        "    for i in range(1, n + 1):\n",
        "        fact = fact * i\n",
        "    return fact\n",
        "\n",
        "find_factorial(n)"
      ],
      "metadata": {
        "id": "qwHTeSRqjM02"
      },
      "execution_count": null,
      "outputs": []
    },
    {
      "cell_type": "code",
      "source": [
        "# Find if a number/string is a palindrome\n",
        "\n",
        "def is_palindrome(var1):\n",
        "    result = var1 == var1[::-1]\n",
        "    return result\n",
        "\n",
        "string1 = 'bob'\n",
        "\n",
        "print(is_palindrome(string1))"
      ],
      "metadata": {
        "id": "5Wsr9tbZjWtt"
      },
      "execution_count": null,
      "outputs": []
    },
    {
      "cell_type": "code",
      "source": [
        "#- Write a Python function to check whether a number falls within a given range.\n",
        "\n",
        "def in_range(var1, var2):\n",
        "    if var1 in var2:\n",
        "        result = 'Present'\n",
        "    else:\n",
        "        result = 'Not Present'\n",
        "    return result\n",
        "\n",
        "number1 = 5\n",
        "check_range = range(10)\n",
        "\n",
        "print(in_range(number1, check_range))"
      ],
      "metadata": {
        "id": "dljkLeVrjYoN"
      },
      "execution_count": null,
      "outputs": []
    },
    {
      "cell_type": "code",
      "source": [
        "# Write a Python function that accepts a string and counts the number of upper and lower case letters.\n",
        "\n",
        "def count_letters(var1):\n",
        "    count_upper = 0\n",
        "    count_lower = 0\n",
        "    for i in var1:\n",
        "        if i.isupper() == True:\n",
        "            count_upper += 1\n",
        "        else:\n",
        "            count_lower += 1\n",
        "    return print('Upper case letters: ', count_upper, '\\nLower case letters: ', count_lower)\n",
        "\n",
        "check_string = 'Here Is a Test Sentence'\n",
        "\n",
        "count_letters(check_string)"
      ],
      "metadata": {
        "id": "2Ao1ymDsjaV9"
      },
      "execution_count": null,
      "outputs": []
    },
    {
      "cell_type": "code",
      "source": [
        "#Write a Python function that takes a list and returns a new list with distinct elements from the first list.\n",
        "\n",
        "def unique_list(var1):\n",
        "    output = []\n",
        "    for i in var1:\n",
        "        if i not in output:\n",
        "            output.append(i)\n",
        "    return output\n",
        "\n",
        "list1 = [1, 1, 3, 5, 6, 1, 6, 7, 8, 9, 10]\n",
        "\n",
        "print(unique_list(list1))"
      ],
      "metadata": {
        "id": "tXzKXB-5jllF"
      },
      "execution_count": null,
      "outputs": []
    },
    {
      "cell_type": "code",
      "source": [
        "#Write a Python program to print the even numbers from a given list.\n",
        "\n",
        "def even_list(var1):\n",
        "    output = []\n",
        "    for i in var1:\n",
        "        if (i % 2) == 0:\n",
        "            output.append(i)\n",
        "    return output\n",
        "\n",
        "list1 = [1, 1, 3, 5, 6, 1, 6, 7, 8, 9, 10]\n",
        "\n",
        "print(even_list(list1))\n"
      ],
      "metadata": {
        "id": "vGxOvHyvjmIc"
      },
      "execution_count": null,
      "outputs": []
    },
    {
      "cell_type": "code",
      "source": [],
      "metadata": {
        "id": "bILREiIojn7M"
      },
      "execution_count": null,
      "outputs": []
    }
  ]
}